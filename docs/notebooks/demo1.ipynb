{
 "cells": [
  {
   "cell_type": "markdown",
   "metadata": {},
   "source": [
    "## Demo 1: Wasserstein distance estimation on toy example\n",
    "[![Open In Colab](https://colab.research.google.com/assets/colab-badge.svg)](https://colab.research.google.com/github/deel-ai/deel-lip/blob/master/docs/notebooks/demo1.ipynb)\n",
    "\n",
    "In this notebook we will see how to estimate the wasserstein distance with a Neural net by using\n",
    "the Kantorovich-Rubinestein dual representation.\n",
    "\n",
    "\n",
    "### Wasserstein distance\n",
    "\n",
    "The wasserstein distance measure the distance between two probability distribution. Wikipedia article gives a more intuitive definition of it:\n",
    "\n",
    "> Intuitively, if each distribution is viewed as a unit amount of \"dirt\" piled on M, the metric is the minimum \"cost\" of turning one pile into the other, which is assumed to be the amount of dirt that needs to be moved times the mean distance it has to be moved. Because of this analogy, the metric is known in computer science as the earth mover's distance.\n",
    "\n",
    "Mathematically it is defined as:\n",
    "\n",
    "$$\n",
    "W_1(\\mu,\\nu) = \\inf_{\\pi \\in \\Pi(\\mu,\\nu)}\\underset{x,z \\sim \\pi}{\\mathbb{E}}\\parallel \\textbf{x}-\\textbf{z} \\parallel\n",
    "$$\n",
    "\n",
    "where $\\Pi(\\mu,\\nu)$ is the set of all probability measures on $\\Omega\\times \\Omega$ with marginals $\\mu$ and $\\nu$. In most case this equation is not tractable.\n",
    "\n",
    "### KR dual formulation\n",
    "\n",
    "In our setup, the KR dual formulation is stated as following:\n",
    "$$ W_1(\\mu, \\nu) = \\sup_{f \\in Lip_1(\\Omega)} \\underset{\\textbf{x} \\sim \\mu}{\\mathbb{E}} \\left[f(\\textbf{x} )\\right] -\\underset{\\textbf{x}  \\sim \\nu}{\\mathbb{E}} \\left[f(\\textbf{x} )\\right] $$\n",
    "\n",
    "This state the problem as an optimization problem over the 1-lipschitz functions.\n",
    "Therefore k-Lipschitz networks allows us to solve this maximization problem.\n",
    "\n",
    "[1] C. Anil, J. Lucas, et R. Grosse, « Sorting out Lipschitz function approximation », arXiv:1811.05381 [cs, stat], nov. 2018.\n",
    "\n",
    "\n",
    "We will illustrate this on a synthetic image dataset where $W_1$ is known."
   ]
  },
  {
   "cell_type": "code",
   "execution_count": null,
   "metadata": {},
   "outputs": [],
   "source": [
    "# pip install deel-lip -qqq"
   ]
  },
  {
   "cell_type": "code",
   "execution_count": 1,
   "metadata": {},
   "outputs": [
    {
     "name": "stderr",
     "output_type": "stream",
     "text": [
      "Matplotlib created a temporary config/cache directory at /tmp/matplotlib-_d1mx9in because the default path (/home/thibaut.boissin/.config/matplotlib) is not a writable directory; it is highly recommended to set the MPLCONFIGDIR environment variable to a writable directory, in particular to speed up the import of Matplotlib and to better support multiprocessing.\n",
      "2021-09-08 18:20:20.330918: I tensorflow/stream_executor/platform/default/dso_loader.cc:49] Successfully opened dynamic library libcudart.so.11.0\n"
     ]
    }
   ],
   "source": [
    "from datetime import datetime\n",
    "import os\n",
    "import numpy as np\n",
    "import math\n",
    "\n",
    "import matplotlib.pyplot as plt \n",
    "\n",
    "from tensorflow.keras import backend as K\n",
    "from tensorflow.keras.layers import Input, Flatten, ReLU\n",
    "from tensorflow.keras.optimizers import Adam\n",
    "from tensorflow.keras.models import load_model\n",
    "\n",
    "from deel.lip.layers import SpectralConv2D, SpectralDense, FrobeniusDense\n",
    "from deel.lip.activations import MaxMin, GroupSort, FullSort\n",
    "from deel.lip.losses import KR, HKR\n",
    "from deel.lip.model import Model"
   ]
  },
  {
   "cell_type": "markdown",
   "metadata": {},
   "source": [
    "### Parameters input images\n",
    "\n",
    "The synthetic dataset will be composed image with black or white squares allowing us to check if the computed wasserstein distance is correct. One distribution will be the set of black images, while the other will be the set of images with a square on it. these two distribution are diracs, and the wasserstein distance can be analyticaly computed:\n",
    "\n",
    "In the case to the two diracs the wasserstein distance is then the L1 distance between the two images."
   ]
  },
  {
   "cell_type": "code",
   "execution_count": 2,
   "metadata": {},
   "outputs": [],
   "source": [
    "img_size = 64 \n",
    "frac_value = 0.3  # proportion of the center square"
   ]
  },
  {
   "cell_type": "markdown",
   "metadata": {},
   "source": [
    "### Generate images"
   ]
  },
  {
   "cell_type": "code",
   "execution_count": 3,
   "metadata": {},
   "outputs": [],
   "source": [
    "def generate_toy_images(shape,frac=0,v=1):\n",
    "    \"\"\"\n",
    "    function that generate a single image.\n",
    "    \n",
    "    Args:\n",
    "        shape: shape of the output image\n",
    "        frac: proportion of the center square\n",
    "        value: value assigned to the center square\n",
    "    \"\"\"\n",
    "    img = np.zeros(shape)\n",
    "    if frac==0:\n",
    "        return img\n",
    "    frac=frac**0.5\n",
    "    #print(frac)\n",
    "    l=int(shape[0]*frac)\n",
    "    ldec=(shape[0]-l)//2\n",
    "    #print(l)\n",
    "    w=int(shape[1]*frac)\n",
    "    wdec=(shape[1]-w)//2\n",
    "    img[ldec:ldec+l,wdec:wdec+w,:]=v\n",
    "    return img\n",
    "\n",
    "\n",
    "def binary_generator(batch_size,shape,frac=0):\n",
    "    \"\"\"\n",
    "    generate a batch with half of black images, hald of images with a white square.\n",
    "    \"\"\"\n",
    "    batch_x = np.zeros(((batch_size,)+(shape)), dtype=np.float16)\n",
    "    batch_y=np.zeros((batch_size,1), dtype=np.float16)\n",
    "    batch_x[batch_size//2:,]=generate_toy_images(shape,frac=frac,v=1)\n",
    "    batch_y[batch_size//2:]=1\n",
    "    while True:\n",
    "        yield  batch_x, batch_y\n",
    "\n",
    "\n",
    "def ternary_generator(batch_size,shape,frac=0):\n",
    "    \"\"\"\n",
    "    Same as binary generator, but images can have a white square of value 1, or value -1\n",
    "    \"\"\"\n",
    "    batch_x = np.zeros(((batch_size,)+(shape)), dtype=np.float16)\n",
    "    batch_y=np.zeros((batch_size,1), dtype=np.float16)\n",
    "    batch_x[3*batch_size//4:,]=generate_toy_images(shape,frac=frac,v=1)\n",
    "    batch_x[batch_size//2:3*batch_size//4,]=generate_toy_images(shape,frac=frac,v=-1)\n",
    "    batch_y[batch_size//2:]=1\n",
    "    #indexes_shuffle = np.arange(batch_size)\n",
    "    while True:\n",
    "        #np.random.shuffle(indexes_shuffle)\n",
    "        #yield  batch_x[indexes_shuffle,], batch_y[indexes_shuffle,]\n",
    "        yield  batch_x, batch_y"
   ]
  },
  {
   "cell_type": "code",
   "execution_count": 4,
   "metadata": {},
   "outputs": [],
   "source": [
    "def display_img(img):\n",
    "    \"\"\"\n",
    "    Display an image\n",
    "    \"\"\"\n",
    "    if img.shape[-1] == 1:\n",
    "        img = np.tile(img,(3,))\n",
    "    fig, ax = plt.subplots()\n",
    "    \n",
    "    imgplot = ax.imshow((img*255).astype(np.uint))\n",
    "    "
   ]
  },
  {
   "cell_type": "markdown",
   "metadata": {},
   "source": [
    "Now let's take a look at the generated batches\n",
    "\n",
    "#### for binary generator"
   ]
  },
  {
   "cell_type": "code",
   "execution_count": 5,
   "metadata": {},
   "outputs": [
    {
     "name": "stdout",
     "output_type": "stream",
     "text": [
      "Norm L2 35.0\n",
      "Norm L2(count pixels) 35.0\n"
     ]
    },
    {
     "data": {
      "image/png": "[encoded data removed]",
      "text/plain": [
       "<Figure size 432x288 with 1 Axes>"
      ]
     },
     "metadata": {
      "needs_background": "light"
     },
     "output_type": "display_data"
    },
    {
     "data": {
      "image/png": "[encoded data removed]",
      "text/plain": [
       "<Figure size 432x288 with 1 Axes>"
      ]
     },
     "metadata": {
      "needs_background": "light"
     },
     "output_type": "display_data"
    }
   ],
   "source": [
    "test=binary_generator(2,(img_size,img_size,1),frac=frac_value)\n",
    "imgs, y=next(test)\n",
    "\n",
    "display_img(imgs[0])\n",
    "display_img(imgs[1])\n",
    "print(\"Norm L2 \"+str(np.linalg.norm(imgs[1])))\n",
    "print(\"Norm L2(count pixels) \"+str(math.sqrt(np.size(imgs[1][imgs[1]==1]))))"
   ]
  },
  {
   "cell_type": "markdown",
   "metadata": {},
   "source": [
    "#### for ternary generator"
   ]
  },
  {
   "cell_type": "code",
   "execution_count": 6,
   "metadata": {},
   "outputs": [
    {
     "name": "stdout",
     "output_type": "stream",
     "text": [
      "Norm L2(imgs[2]-imgs[0])35.0\n",
      "Norm L2(imgs[2]) 35.0\n",
      "Norm L2(count pixels) 35.0\n"
     ]
    },
    {
     "data": {
      "image/png": "[encoded data removed]",
      "text/plain": [
       "<Figure size 432x288 with 1 Axes>"
      ]
     },
     "metadata": {
      "needs_background": "light"
     },
     "output_type": "display_data"
    },
    {
     "data": {
      "image/png": "[encoded data removed]",
      "text/plain": [
       "<Figure size 432x288 with 1 Axes>"
      ]
     },
     "metadata": {
      "needs_background": "light"
     },
     "output_type": "display_data"
    },
    {
     "data": {
      "image/png": "[encoded data removed]",
      "text/plain": [
       "<Figure size 432x288 with 1 Axes>"
      ]
     },
     "metadata": {
      "needs_background": "light"
     },
     "output_type": "display_data"
    },
    {
     "data": {
      "image/png": "[encoded data removed]",
      "text/plain": [
       "<Figure size 432x288 with 1 Axes>"
      ]
     },
     "metadata": {
      "needs_background": "light"
     },
     "output_type": "display_data"
    }
   ],
   "source": [
    "test=ternary_generator(4,(img_size,img_size,1),frac=frac_value)\n",
    "imgs, y=next(test)\n",
    "\n",
    "for i in range(4):\n",
    "    display_img(0.5*(imgs[i]+1.0)) # we ensure that there is no negative value wehn displaying images\n",
    "\n",
    "print(\"Norm L2(imgs[2]-imgs[0])\"+str(np.linalg.norm(imgs[2]-imgs[0])))\n",
    "print(\"Norm L2(imgs[2]) \"+str(np.linalg.norm(imgs[2])))\n",
    "print(\"Norm L2(count pixels) \"+str(math.sqrt(np.size(imgs[2][imgs[2]==-1]))))"
   ]
  },
  {
   "cell_type": "markdown",
   "metadata": {},
   "source": [
    "### Expe parameters\n",
    "\n",
    "Now we know the wasserstein distance between the black image and the images with a square on it.\n",
    "For both binary generator and ternary generator this distance is 35.\n",
    "\n",
    "We will then compute this distance using a neural network."
   ]
  },
  {
   "cell_type": "code",
   "execution_count": 7,
   "metadata": {},
   "outputs": [],
   "source": [
    "batch_size=64\n",
    "epochs=5\n",
    "steps_per_epoch=6400"
   ]
  },
  {
   "cell_type": "code",
   "execution_count": 8,
   "metadata": {},
   "outputs": [],
   "source": [
    "generator = ternary_generator   #binary_generator, ternary_generator\n",
    "activation = FullSort #ReLU, MaxMin, GroupSort"
   ]
  },
  {
   "cell_type": "markdown",
   "metadata": {},
   "source": [
    "### Build lipschitz Model"
   ]
  },
  {
   "cell_type": "code",
   "execution_count": 10,
   "metadata": {},
   "outputs": [
    {
     "name": "stderr",
     "output_type": "stream",
     "text": [
      "2021-09-08 18:20:38.075170: I tensorflow/compiler/jit/xla_cpu_device.cc:41] Not creating XLA devices, tf_xla_enable_xla_devices not set\n",
      "2021-09-08 18:20:38.076265: I tensorflow/stream_executor/platform/default/dso_loader.cc:49] Successfully opened dynamic library libcuda.so.1\n",
      "2021-09-08 18:20:38.116402: I tensorflow/stream_executor/cuda/cuda_gpu_executor.cc:941] successful NUMA node read from SysFS had negative value (-1), but there must be at least one NUMA node, so returning NUMA node zero\n",
      "2021-09-08 18:20:38.116842: I tensorflow/core/common_runtime/gpu/gpu_device.cc:1720] Found device 0 with properties: \n",
      "pciBusID: 0000:01:00.0 name: GeForce RTX 3080 computeCapability: 8.6\n",
      "coreClock: 1.83GHz coreCount: 68 deviceMemorySize: 9.78GiB deviceMemoryBandwidth: 707.88GiB/s\n",
      "2021-09-08 18:20:38.116868: I tensorflow/stream_executor/platform/default/dso_loader.cc:49] Successfully opened dynamic library libcudart.so.11.0\n",
      "2021-09-08 18:20:38.119558: I tensorflow/stream_executor/platform/default/dso_loader.cc:49] Successfully opened dynamic library libcublas.so.11\n",
      "2021-09-08 18:20:38.119602: I tensorflow/stream_executor/platform/default/dso_loader.cc:49] Successfully opened dynamic library libcublasLt.so.11\n",
      "2021-09-08 18:20:38.120389: I tensorflow/stream_executor/platform/default/dso_loader.cc:49] Successfully opened dynamic library libcufft.so.10\n",
      "2021-09-08 18:20:38.120583: I tensorflow/stream_executor/platform/default/dso_loader.cc:49] Successfully opened dynamic library libcurand.so.10\n",
      "2021-09-08 18:20:38.122025: I tensorflow/stream_executor/platform/default/dso_loader.cc:49] Successfully opened dynamic library libcusolver.so.10\n",
      "2021-09-08 18:20:38.122661: I tensorflow/stream_executor/platform/default/dso_loader.cc:49] Successfully opened dynamic library libcusparse.so.11\n",
      "2021-09-08 18:20:38.122768: I tensorflow/stream_executor/platform/default/dso_loader.cc:49] Successfully opened dynamic library libcudnn.so.8\n",
      "2021-09-08 18:20:38.122832: I tensorflow/stream_executor/cuda/cuda_gpu_executor.cc:941] successful NUMA node read from SysFS had negative value (-1), but there must be at least one NUMA node, so returning NUMA node zero\n",
      "2021-09-08 18:20:38.123234: I tensorflow/stream_executor/cuda/cuda_gpu_executor.cc:941] successful NUMA node read from SysFS had negative value (-1), but there must be at least one NUMA node, so returning NUMA node zero\n",
      "2021-09-08 18:20:38.123588: I tensorflow/core/common_runtime/gpu/gpu_device.cc:1862] Adding visible gpu devices: 0\n",
      "2021-09-08 18:20:38.124825: I tensorflow/compiler/jit/xla_gpu_device.cc:99] Not creating XLA devices, tf_xla_enable_xla_devices not set\n",
      "2021-09-08 18:20:38.124895: I tensorflow/stream_executor/cuda/cuda_gpu_executor.cc:941] successful NUMA node read from SysFS had negative value (-1), but there must be at least one NUMA node, so returning NUMA node zero\n",
      "2021-09-08 18:20:38.125224: I tensorflow/core/common_runtime/gpu/gpu_device.cc:1720] Found device 0 with properties: \n",
      "pciBusID: 0000:01:00.0 name: GeForce RTX 3080 computeCapability: 8.6\n",
      "coreClock: 1.83GHz coreCount: 68 deviceMemorySize: 9.78GiB deviceMemoryBandwidth: 707.88GiB/s\n",
      "2021-09-08 18:20:38.125241: I tensorflow/stream_executor/platform/default/dso_loader.cc:49] Successfully opened dynamic library libcudart.so.11.0\n",
      "2021-09-08 18:20:38.125254: I tensorflow/stream_executor/platform/default/dso_loader.cc:49] Successfully opened dynamic library libcublas.so.11\n",
      "2021-09-08 18:20:38.125266: I tensorflow/stream_executor/platform/default/dso_loader.cc:49] Successfully opened dynamic library libcublasLt.so.11\n",
      "2021-09-08 18:20:38.125278: I tensorflow/stream_executor/platform/default/dso_loader.cc:49] Successfully opened dynamic library libcufft.so.10\n",
      "2021-09-08 18:20:38.125289: I tensorflow/stream_executor/platform/default/dso_loader.cc:49] Successfully opened dynamic library libcurand.so.10\n",
      "2021-09-08 18:20:38.125300: I tensorflow/stream_executor/platform/default/dso_loader.cc:49] Successfully opened dynamic library libcusolver.so.10\n",
      "2021-09-08 18:20:38.125311: I tensorflow/stream_executor/platform/default/dso_loader.cc:49] Successfully opened dynamic library libcusparse.so.11\n",
      "2021-09-08 18:20:38.125323: I tensorflow/stream_executor/platform/default/dso_loader.cc:49] Successfully opened dynamic library libcudnn.so.8\n",
      "2021-09-08 18:20:38.125366: I tensorflow/stream_executor/cuda/cuda_gpu_executor.cc:941] successful NUMA node read from SysFS had negative value (-1), but there must be at least one NUMA node, so returning NUMA node zero\n",
      "2021-09-08 18:20:38.125711: I tensorflow/stream_executor/cuda/cuda_gpu_executor.cc:941] successful NUMA node read from SysFS had negative value (-1), but there must be at least one NUMA node, so returning NUMA node zero\n",
      "2021-09-08 18:20:38.126022: I tensorflow/core/common_runtime/gpu/gpu_device.cc:1862] Adding visible gpu devices: 0\n",
      "2021-09-08 18:20:38.126048: I tensorflow/stream_executor/platform/default/dso_loader.cc:49] Successfully opened dynamic library libcudart.so.11.0\n",
      "2021-09-08 18:20:38.409201: I tensorflow/core/common_runtime/gpu/gpu_device.cc:1261] Device interconnect StreamExecutor with strength 1 edge matrix:\n",
      "2021-09-08 18:20:38.409221: I tensorflow/core/common_runtime/gpu/gpu_device.cc:1267]      0 \n",
      "2021-09-08 18:20:38.409225: I tensorflow/core/common_runtime/gpu/gpu_device.cc:1280] 0:   N \n",
      "2021-09-08 18:20:38.409352: I tensorflow/stream_executor/cuda/cuda_gpu_executor.cc:941] successful NUMA node read from SysFS had negative value (-1), but there must be at least one NUMA node, so returning NUMA node zero\n",
      "2021-09-08 18:20:38.409615: I tensorflow/stream_executor/cuda/cuda_gpu_executor.cc:941] successful NUMA node read from SysFS had negative value (-1), but there must be at least one NUMA node, so returning NUMA node zero\n",
      "2021-09-08 18:20:38.409848: I tensorflow/stream_executor/cuda/cuda_gpu_executor.cc:941] successful NUMA node read from SysFS had negative value (-1), but there must be at least one NUMA node, so returning NUMA node zero\n",
      "2021-09-08 18:20:38.410069: I tensorflow/core/common_runtime/gpu/gpu_device.cc:1406] Created TensorFlow device (/job:localhost/replica:0/task:0/device:GPU:0 with 9056 MB memory) -> physical GPU (device: 0, name: GeForce RTX 3080, pci bus id: 0000:01:00.0, compute capability: 8.6)\n",
      "2021-09-08 18:20:38.493063: I tensorflow/stream_executor/platform/default/dso_loader.cc:49] Successfully opened dynamic library libcublas.so.11\n",
      "2021-09-08 18:20:38.861293: I tensorflow/stream_executor/platform/default/dso_loader.cc:49] Successfully opened dynamic library libcublasLt.so.11\n",
      "2021-09-08 18:20:38.861380: I tensorflow/stream_executor/cuda/cuda_blas.cc:1838] TensorFloat-32 will be used for the matrix multiplication. This will only be logged once.\n"
     ]
    },
    {
     "name": "stdout",
     "output_type": "stream",
     "text": [
      "Model: \"model\"\n",
      "_________________________________________________________________\n",
      "Layer (type)                 Output Shape              Param #   \n",
      "=================================================================\n",
      "input_1 (InputLayer)         [(None, 64, 64, 1)]       0         \n",
      "_________________________________________________________________\n",
      "flatten (Flatten)            (None, 4096)              0         \n",
      "_________________________________________________________________\n",
      "spectral_dense (SpectralDens (None, 128)               1048833   \n",
      "_________________________________________________________________\n",
      "spectral_dense_1 (SpectralDe (None, 64)                16513     \n",
      "_________________________________________________________________\n",
      "spectral_dense_2 (SpectralDe (None, 32)                4161      \n",
      "_________________________________________________________________\n",
      "frobenius_dense (FrobeniusDe (None, 1)                 65        \n",
      "=================================================================\n",
      "Total params: 1,069,572\n",
      "Trainable params: 534,785\n",
      "Non-trainable params: 534,787\n",
      "_________________________________________________________________\n"
     ]
    }
   ],
   "source": [
    "K.clear_session()\n",
    "## please note that the previous helper function has the same behavior as the following code:\n",
    "inputs = Input((img_size, img_size, 1))\n",
    "x = Flatten()(inputs)\n",
    "x = SpectralDense(128, activation=FullSort())(x)\n",
    "x = SpectralDense(64, activation=FullSort())(x)\n",
    "x = SpectralDense(32, activation=FullSort())(x)\n",
    "y = FrobeniusDense(1, activation=None)(x)\n",
    "wass = Model(inputs=inputs, outputs=y)\n",
    "wass.summary()"
   ]
  },
  {
   "cell_type": "code",
   "execution_count": 11,
   "metadata": {},
   "outputs": [],
   "source": [
    "optimizer = Adam(lr=0.01)"
   ]
  },
  {
   "cell_type": "code",
   "execution_count": 12,
   "metadata": {},
   "outputs": [],
   "source": [
    "wass.compile(loss=HKR(alpha=0), optimizer=optimizer, metrics=[KR])"
   ]
  },
  {
   "cell_type": "markdown",
   "metadata": {},
   "source": [
    "### Learn on toy dataset"
   ]
  },
  {
   "cell_type": "code",
   "execution_count": 13,
   "metadata": {},
   "outputs": [
    {
     "name": "stderr",
     "output_type": "stream",
     "text": [
      "/home/thibaut.boissin/envs/tf24/lib/python3.7/site-packages/tensorflow/python/keras/engine/training.py:1844: UserWarning: `Model.fit_generator` is deprecated and will be removed in a future version. Please use `Model.fit`, which supports generators.\n",
      "  warnings.warn('`Model.fit_generator` is deprecated and '\n",
      "2021-09-08 18:20:39.823710: I tensorflow/compiler/mlir/mlir_graph_optimization_pass.cc:116] None of the MLIR optimization passes are enabled (registered 2)\n",
      "2021-09-08 18:20:39.842379: I tensorflow/core/platform/profile_utils/cpu_utils.cc:112] CPU Frequency: 3600000000 Hz\n"
     ]
    },
    {
     "name": "stdout",
     "output_type": "stream",
     "text": [
      "Epoch 1/5\n",
      "100/100 [==============================] - 6s 50ms/step - loss: -24.9882 - KR: 24.9882\n",
      "Epoch 2/5\n",
      "100/100 [==============================] - 5s 49ms/step - loss: -34.9959 - KR: 34.9959\n",
      "Epoch 3/5\n",
      "100/100 [==============================] - 5s 49ms/step - loss: -34.9964 - KR: 34.9964\n",
      "Epoch 4/5\n",
      "100/100 [==============================] - 5s 50ms/step - loss: -34.9961 - KR: 34.9961\n",
      "Epoch 5/5\n",
      "100/100 [==============================] - 5s 50ms/step - loss: -34.9957 - KR: 34.9957\n"
     ]
    },
    {
     "data": {
      "text/plain": [
       "<tensorflow.python.keras.callbacks.History at 0x7f6a6b73cfd0>"
      ]
     },
     "execution_count": 13,
     "metadata": {},
     "output_type": "execute_result"
    }
   ],
   "source": [
    "wass.fit_generator( generator(batch_size,(img_size,img_size,1),frac=frac_value),\n",
    "                steps_per_epoch=steps_per_epoch// batch_size,\n",
    "                epochs=epochs,verbose=1)"
   ]
  },
  {
   "cell_type": "markdown",
   "metadata": {},
   "source": [
    "As we can see the loss converge to the value 35 which is the wasserstein distance between the two distributions (square and non-square)."
   ]
  }
 ],
 "metadata": {
  "interpreter": {
   "hash": "e585d72a124540032141457729caea4129d351be49f1f69f41c00c4f8476abb5"
  },
  "kernelspec": {
   "display_name": "Python 3.7.11 64-bit ('tf24': venv)",
   "name": "python3"
  },
  "language_info": {
   "codemirror_mode": {
    "name": "ipython",
    "version": 3
   },
   "file_extension": ".py",
   "mimetype": "text/x-python",
   "name": "python",
   "nbconvert_exporter": "python",
   "pygments_lexer": "ipython3",
   "version": "3.7.11"
  }
 },
 "nbformat": 4,
 "nbformat_minor": 4
}
